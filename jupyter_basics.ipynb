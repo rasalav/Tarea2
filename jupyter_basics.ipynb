{
 "cells": [
  {
   "cell_type": "markdown",
   "metadata": {},
   "source": [
    "# Primeros pasos con JUPYTER"
   ]
  },
  {
   "cell_type": "markdown",
   "metadata": {},
   "source": [
    "Jupyter es un ambiente interactivo para correr código desde una interface web, útil para la exploración y análisis de datos, ampliamente utilizado por científicos. Soporta varios lenguajes de programación y puede incorporar código, texto, imágenes, ecuaciones etc. "
   ]
  },
  {
   "cell_type": "markdown",
   "metadata": {},
   "source": [
    "Se pueden crear listas de elementos de texto como estas:\n",
    "* Se coloca el signo de asterisco al inicio de cada bullet.\n",
    "* Y por supuesto, como toda celda de texto, se corre la celda como \"Markdown\".\n",
    "* Si desea ver como se escribieron estos bullets, sólo precione la celda con doble click y luego ejecute el texto como \"Markdown\"."
   ]
  },
  {
   "cell_type": "markdown",
   "metadata": {},
   "source": [
    "Por otro lado, también se puede escribir en *italic* al colocar 1 asterisco antes y después de la palabra es cuestión, de igual forma se puede escribir en **bold** al colocar 2 asterisco antes y después de la palabra es cuestión. Finalmente el texto en ***italic and bold*** se hace con 3 asteriscos."
   ]
  },
  {
   "cell_type": "markdown",
   "metadata": {},
   "source": [
    "Vamos a ingresar una ecuación, en este caso se ingresa el código como si fuera Latex con símbolos de $ antes y después de la ecuación:"
   ]
  },
  {
   "cell_type": "markdown",
   "metadata": {},
   "source": [
    "$e^{i\\pi} + 1 = 0$"
   ]
  },
  {
   "cell_type": "markdown",
   "metadata": {},
   "source": [
    "Si por alguna razón quisieramos centrar la ecuación, lo hacemos colocando dos símbolos de $ antes y después de la ecuación."
   ]
  },
  {
   "cell_type": "markdown",
   "metadata": {},
   "source": [
    "$$e^{i\\pi} + 1 = 0$$"
   ]
  },
  {
   "cell_type": "markdown",
   "metadata": {},
   "source": [
    "Procedamos ahora con un ejercicio simple para generar una curva, primeramente llamamos a las librerías requeridas, al ser código, ahora se corre la celda como \"Code\": "
   ]
  },
  {
   "cell_type": "code",
   "execution_count": 33,
   "metadata": {
    "collapsed": true
   },
   "outputs": [],
   "source": [
    "# Se puede tambien dentro del codigo comentar con el signo numeral.\n",
    "import matplotlib.pyplot as plt  # Se invoca a la libreria matplotlib\n",
    "import numpy as np   # Se invoca la libreria numpy"
   ]
  },
  {
   "cell_type": "markdown",
   "metadata": {},
   "source": [
    "Para el caso de matplotlib se debe incorporar un elemento mas para lograr que se vizulice la curva en la Notebook de Jupyter, este elemento es el siguiente:"
   ]
  },
  {
   "cell_type": "code",
   "execution_count": 34,
   "metadata": {
    "collapsed": true
   },
   "outputs": [],
   "source": [
    "%matplotlib inline"
   ]
  },
  {
   "cell_type": "markdown",
   "metadata": {},
   "source": [
    "Ahora procedemos a crear las variables x, y de nuestra curva:"
   ]
  },
  {
   "cell_type": "code",
   "execution_count": 35,
   "metadata": {
    "collapsed": true
   },
   "outputs": [],
   "source": [
    "x = np.linspace(-10, 10, 100) # variable x con 100 samples generados, empezando en 10 y finalizando en 10.\n",
    "y = np.tan(x)  # variable y correspondiente a una tangente de x"
   ]
  },
  {
   "cell_type": "markdown",
   "metadata": {},
   "source": [
    "Recuerde que puede agregar una celda arriba o abajo de la celda en la cual esté posicionado desde el menú en Insert + Insert Cell Above/Below, y ahora la curva:"
   ]
  },
  {
   "cell_type": "code",
   "execution_count": 36,
   "metadata": {
    "collapsed": false
   },
   "outputs": [
    {
     "data": {
      "text/plain": [
       "[<matplotlib.lines.Line2D at 0x109ee7b38>]"
      ]
     },
     "execution_count": 36,
     "metadata": {},
     "output_type": "execute_result"
    },
    {
     "data": {
      "image/png": "[encoded data removed]",
      "text/plain": [
       "<matplotlib.figure.Figure at 0x109e11da0>"
      ]
     },
     "metadata": {},
     "output_type": "display_data"
    }
   ],
   "source": [
    "plt.plot(x, y, 'r')  # se grafica la curva y(x) en color rojo. "
   ]
  },
  {
   "cell_type": "markdown",
   "metadata": {},
   "source": [
    "Vamos ahora a crear un dicccionario y con pandas lo convertiremos en un DataFrame:"
   ]
  },
  {
   "cell_type": "code",
   "execution_count": 37,
   "metadata": {
    "collapsed": true
   },
   "outputs": [],
   "source": [
    "import pandas as pd  # Se invoca la libreria pandas\n",
    "\n",
    "# Se crea un diccionario llamado \"data\"\n",
    "\n",
    "data = {'Nombre': [\"Juan\", \"Ana\", \"Pedro\", \"Julia\"],\n",
    "'Location' : [\"San Jose\", \"Cartago\", \"Limon\", \"Alajuela\"],\n",
    "'Age' : [24, 13, 53, 33]\n",
    "}"
   ]
  },
  {
   "cell_type": "markdown",
   "metadata": {},
   "source": [
    "Verificamos el contenido del data:"
   ]
  },
  {
   "cell_type": "code",
   "execution_count": 38,
   "metadata": {
    "collapsed": false
   },
   "outputs": [
    {
     "data": {
      "text/plain": [
       "{'Age': [24, 13, 53, 33],\n",
       " 'Location': ['San Jose', 'Cartago', 'Limon', 'Alajuela'],\n",
       " 'Nombre': ['Juan', 'Ana', 'Pedro', 'Julia']}"
      ]
     },
     "execution_count": 38,
     "metadata": {},
     "output_type": "execute_result"
    }
   ],
   "source": [
    "data"
   ]
  },
  {
   "cell_type": "markdown",
   "metadata": {},
   "source": [
    "...y a la vez validamos el tipo de variable:"
   ]
  },
  {
   "cell_type": "code",
   "execution_count": 39,
   "metadata": {
    "collapsed": false
   },
   "outputs": [
    {
     "data": {
      "text/plain": [
       "dict"
      ]
     },
     "execution_count": 39,
     "metadata": {},
     "output_type": "execute_result"
    }
   ],
   "source": [
    "type(data)"
   ]
  },
  {
   "cell_type": "markdown",
   "metadata": {},
   "source": [
    "Como vemos corresponde a un diccionario, ahora lo convertimos a un DataFrame:"
   ]
  },
  {
   "cell_type": "code",
   "execution_count": 40,
   "metadata": {
    "collapsed": true
   },
   "outputs": [],
   "source": [
    "data_pandas = pd.DataFrame(data)"
   ]
  },
  {
   "cell_type": "markdown",
   "metadata": {},
   "source": [
    "De nuevo validamos su contenido:"
   ]
  },
  {
   "cell_type": "code",
   "execution_count": 41,
   "metadata": {
    "collapsed": false
   },
   "outputs": [
    {
     "data": {
      "text/html": [
       "<div>\n",
       "<table border=\"1\" class=\"dataframe\">\n",
       "  <thead>\n",
       "    <tr style=\"text-align: right;\">\n",
       "      <th></th>\n",
       "      <th>Age</th>\n",
       "      <th>Location</th>\n",
       "      <th>Nombre</th>\n",
       "    </tr>\n",
       "  </thead>\n",
       "  <tbody>\n",
       "    <tr>\n",
       "      <th>0</th>\n",
       "      <td>24</td>\n",
       "      <td>San Jose</td>\n",
       "      <td>Juan</td>\n",
       "    </tr>\n",
       "    <tr>\n",
       "      <th>1</th>\n",
       "      <td>13</td>\n",
       "      <td>Cartago</td>\n",
       "      <td>Ana</td>\n",
       "    </tr>\n",
       "    <tr>\n",
       "      <th>2</th>\n",
       "      <td>53</td>\n",
       "      <td>Limon</td>\n",
       "      <td>Pedro</td>\n",
       "    </tr>\n",
       "    <tr>\n",
       "      <th>3</th>\n",
       "      <td>33</td>\n",
       "      <td>Alajuela</td>\n",
       "      <td>Julia</td>\n",
       "    </tr>\n",
       "  </tbody>\n",
       "</table>\n",
       "</div>"
      ],
      "text/plain": [
       "   Age  Location Nombre\n",
       "0   24  San Jose   Juan\n",
       "1   13   Cartago    Ana\n",
       "2   53     Limon  Pedro\n",
       "3   33  Alajuela  Julia"
      ]
     },
     "execution_count": 41,
     "metadata": {},
     "output_type": "execute_result"
    }
   ],
   "source": [
    "data_pandas"
   ]
  },
  {
   "cell_type": "markdown",
   "metadata": {},
   "source": [
    "Nótese como el formato del DataFrame es similar al de una tabla, a continuación verificamos que tipo de variable es:"
   ]
  },
  {
   "cell_type": "code",
   "execution_count": 42,
   "metadata": {
    "collapsed": false
   },
   "outputs": [
    {
     "data": {
      "text/plain": [
       "pandas.core.frame.DataFrame"
      ]
     },
     "execution_count": 42,
     "metadata": {},
     "output_type": "execute_result"
    }
   ],
   "source": [
    "type(data_pandas)"
   ]
  },
  {
   "cell_type": "markdown",
   "metadata": {},
   "source": [
    "Como se aprecia en la linea anterior, efectivamente corresponde a un DataFrame de pandas."
   ]
  },
  {
   "cell_type": "markdown",
   "metadata": {},
   "source": [
    "-----"
   ]
  },
  {
   "cell_type": "markdown",
   "metadata": {},
   "source": [
    "La búsqueda de como llevar a cabo ciertas tareas, se lleva a cabo a travez de la documentación de la librería en cuestión. Por ejemplo si se le solicita crear una matriz de confusión usando scikit-learn para un vector de valores conocidos (y_true) y otro vector de valores obtenidos mediante la prediccion (y_pred), debe dar una busqueda de algo como \"confusion matrix scikit learn\" de segura la primera entrada corresponderá a la documentación oficial donde no sólo encontrará la estructura del como programarlo, sino tambén algún ejemplo: "
   ]
  },
  {
   "cell_type": "code",
   "execution_count": 43,
   "metadata": {
    "collapsed": false
   },
   "outputs": [
    {
     "data": {
      "text/plain": [
       "array([[2, 0, 0],\n",
       "       [0, 0, 1],\n",
       "       [1, 0, 2]])"
      ]
     },
     "execution_count": 43,
     "metadata": {},
     "output_type": "execute_result"
    }
   ],
   "source": [
    "from sklearn.metrics import confusion_matrix\n",
    "y_true = [2, 0, 2, 2, 0, 1]\n",
    "y_pred = [0, 0, 2, 2, 0, 2]\n",
    "confusion_matrix(y_true, y_pred)"
   ]
  },
  {
   "cell_type": "markdown",
   "metadata": {},
   "source": [
    "# Recuerde que..."
   ]
  },
  {
   "cell_type": "markdown",
   "metadata": {},
   "source": [
    "* Cada Notebook se debe correr en un ambiente de ***Conda*** específico, recordemos que Conda es una herramienta de administración de paquetes y ambientes de trabajo, puede correr en Windows, macOS and Linux. Para cada ambiente virtual de trabajo se ejecutan y actualizan las librerías y sus respectivas dependiencias. Puede crear, salvar y cambiar de ambientes de trabajo desde su estacion de trabajo. Usaremos miniconda para este trabajo.\n",
    "\n",
    "* Por su parte ***pandas*** es una librería de python para análisis de datos. \n",
    "\n",
    "* Como notará las Notebooks con Jupyter representan una forma más limpia, ordenada y elegante de trabajar con cdigo python, haciendo más fácil su ejecución.\n"
   ]
  },
  {
   "cell_type": "code",
   "execution_count": null,
   "metadata": {
    "collapsed": true
   },
   "outputs": [],
   "source": []
  }
 ],
 "metadata": {
  "kernelspec": {
   "display_name": "Python 3",
   "language": "python",
   "name": "python3"
  },
  "language_info": {
   "codemirror_mode": {
    "name": "ipython",
    "version": 3
   },
   "file_extension": ".py",
   "mimetype": "text/x-python",
   "name": "python",
   "nbconvert_exporter": "python",
   "pygments_lexer": "ipython3",
   "version": "3.6.0"
  }
 },
 "nbformat": 4,
 "nbformat_minor": 2
}
